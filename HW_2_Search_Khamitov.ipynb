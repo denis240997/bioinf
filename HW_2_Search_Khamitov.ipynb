{
 "cells": [
  {
   "cell_type": "code",
   "execution_count": 236,
   "metadata": {},
   "outputs": [],
   "source": [
    "import numpy as np"
   ]
  },
  {
   "cell_type": "markdown",
   "metadata": {},
   "source": [
    "# Rabin-Karp"
   ]
  },
  {
   "cell_type": "code",
   "execution_count": 339,
   "metadata": {},
   "outputs": [],
   "source": [
    "# можно еще искать сразу несколько одинаковой длины, отсортировав предварительно Patterns, доделаю\n",
    "\n",
    "def RK_search(text, Patterns):\n",
    "    \n",
    "    x_RK = 0 # случайный параметр\n",
    "    \n",
    "    # Полиномиальный хэш\n",
    "    def hashh(text, m=0, s='', q=(2**61-1), init=False):\n",
    "        nonlocal x_RK\n",
    "        \n",
    "        if init:\n",
    "            x_RK = np.random.randint(2, 10**5) # хочу randint(2, q), но не могу совладать с переполнением инта\n",
    "            print('function \"hashh\" was initialized by x_RK =', x_RK, '\\n')\n",
    "        elif not x_RK:\n",
    "            raise BaseException('Initiate hashh function to start work!')\n",
    "\n",
    "        if not m:\n",
    "            m = len(text)\n",
    "\n",
    "        init_arr = list(text[:m])\n",
    "        pol_coef = np.power(x_RK, np.arange(m)[::-1])\n",
    "        hs = np.sum(np.vectorize(ord)(init_arr) * pol_coef) % q\n",
    "        text += '$'\n",
    "        for i in range(len(text) - m):\n",
    "            yield hs\n",
    "            hs = ((hs - ord(text[i])*np.power(x_RK, m-1))*x_RK + ord(text[i+m])) % q\n",
    "        \n",
    "    # Поиск\n",
    "    finds = []\n",
    "    next(hashh('a', init=True))\n",
    "    for pat in Patterns:\n",
    "        f = []\n",
    "        hs_p = next(hashh(pat))\n",
    "        i = 0\n",
    "        for hs in hashh(text, len(pat)):\n",
    "            if hs == hs_p:\n",
    "                f.append(i)\n",
    "            i += 1\n",
    "        if len(f):\n",
    "            finds.append(f)\n",
    "        else:\n",
    "            finds.append(['not in text'])\n",
    "            \n",
    "    return finds"
   ]
  },
  {
   "cell_type": "code",
   "execution_count": 340,
   "metadata": {
    "scrolled": true
   },
   "outputs": [
    {
     "name": "stdout",
     "output_type": "stream",
     "text": [
      "function \"hashh\" was initialized by x_RK = 56022 \n",
      "\n",
      "aaabaababbaa \n",
      "\n",
      "aab \t: 1 4\n",
      "ab \t: 2 5 7\n",
      "aaa \t: 0\n",
      "bab \t: 6\n",
      "bbb \t: not in text\n",
      "abb \t: 7\n"
     ]
    }
   ],
   "source": [
    "text = 'aaabaababbaa'\n",
    "Patterns = ['aab', 'ab', 'aaa', 'bab', 'bbb', 'abb']\n",
    "\n",
    "finds = RK_search(text, Patterns)\n",
    "\n",
    "print(text, '\\n')\n",
    "for i in range(len(Patterns)):\n",
    "    print(Patterns[i], '\\t:', *finds[i])"
   ]
  },
  {
   "cell_type": "markdown",
   "metadata": {},
   "source": [
    "# Knuth–Morris–Pratt"
   ]
  },
  {
   "cell_type": "code",
   "execution_count": 253,
   "metadata": {},
   "outputs": [],
   "source": [
    "def KMP_search(text, pattern):\n",
    "    \n",
    "    # Префикс-функция\n",
    "    def pref(s):\n",
    "        n = len(s)\n",
    "        pr = np.zeros(n, dtype=np.int)\n",
    "        for i in range(n-1):\n",
    "            k = i\n",
    "            while True:\n",
    "                if s[i+1] == s[pr[k]]:\n",
    "                    pr[i+1] = pr[k] + 1\n",
    "                    break\n",
    "                elif pr[k] == 0:\n",
    "                    pr[i+1] = 0\n",
    "                    break\n",
    "                else:\n",
    "                    k = pr[k]\n",
    "        return pr\n",
    "    \n",
    "    # Поиск\n",
    "    m = len(pattern)\n",
    "    pref_patt = pref(pattern)\n",
    "    i = 0\n",
    "    k = 0\n",
    "    while i in range(len(text)) and k in range(m):\n",
    "        if text[i] == pattern[k]:\n",
    "            i += 1\n",
    "            k += 1\n",
    "        elif k:\n",
    "            k = pref_patt[k]\n",
    "        else:\n",
    "            i += 1\n",
    "    if k == m:\n",
    "        return i - m\n",
    "    return -1"
   ]
  },
  {
   "cell_type": "code",
   "execution_count": 254,
   "metadata": {},
   "outputs": [
    {
     "name": "stdout",
     "output_type": "stream",
     "text": [
      "i = 42 \n",
      "substring = abcdabscabcdabia\n"
     ]
    }
   ],
   "source": [
    "text = 'shsjkywabcdabscabcdabhskchabcdabscafhjsganabcdabscabcdabiakwjd'\n",
    "pattern = 'abcdabscabcdabia'\n",
    "\n",
    "i = KMP_search(text, pattern)\n",
    "print('i =', i, '\\nsubstring =', text[i:i+len(pattern)])"
   ]
  },
  {
   "cell_type": "markdown",
   "metadata": {},
   "source": [
    "# Aho–Corasick"
   ]
  },
  {
   "cell_type": "code",
   "execution_count": 232,
   "metadata": {},
   "outputs": [],
   "source": [
    "def AC_search(text, Patterns):\n",
    "    finds = {} # словарь вхождений\n",
    "\n",
    "    # Создаем бор\n",
    "    Bor = {'root':{'par':(-1, -1), 'term':-1, 'suf_link':-1, 'up_link':-1}}\n",
    "    i = 0\n",
    "    node = 'root'\n",
    "    pat_ind = 0\n",
    "    for pat in Patterns:\n",
    "        finds[pat] = []\n",
    "        node = 'root'\n",
    "        for c in pat:\n",
    "            if c not in Bor[node]:\n",
    "                Bor[i] = {'par':(node, c), 'term':-1} # par-(родитель, путь из родителя), term-терминальная?\n",
    "                Bor[node][c] = i\n",
    "            node = Bor[node][c]\n",
    "            i += 1\n",
    "        Bor[node]['term'] = pat_ind # отмечаем конец паттерна как терминальную вершину\n",
    "        pat_ind += 1\n",
    "\n",
    "\n",
    "    # Строим суффиксные ссылки и сжатые суффиксные ссылки\n",
    "    queue = []\n",
    "    for first_lev_node in Bor['root']: # кладем на стек вершины первого уровня\n",
    "        if Bor['root'][first_lev_node] in Bor:\n",
    "            queue.append(Bor['root'][first_lev_node])\n",
    "\n",
    "    while len(queue):\n",
    "        node = Bor[queue.pop(0)] # снимаем вершину со стека\n",
    "\n",
    "        # строим суффиксную ссылку\n",
    "        par_node = node['par'][0] # смотрим на suf_link родителя\n",
    "        while True:\n",
    "            if Bor[par_node]['suf_link'] == -1: # это корень?\n",
    "                node['suf_link'] = 'root'\n",
    "                break\n",
    "            elif node['par'][1] in Bor[Bor[par_node]['suf_link']]: # из suf_link родителя можно пройти в node?\n",
    "                node['suf_link'] = Bor[Bor[par_node]['suf_link']][node['par'][1]]\n",
    "                break\n",
    "            elif Bor[par_node]['par'][0] == -1:\n",
    "                break\n",
    "            else:\n",
    "                par_node = Bor[par_node]['par'][0] # если нет, смотрим на suf_link родителя родителя\n",
    "\n",
    "        # строим суффиксную ссылку\n",
    "        suf_link_node = node['suf_link']\n",
    "        if suf_link_node == 'root':\n",
    "            node['up_link'] = -1\n",
    "        elif Bor[suf_link_node]['term'] + 1:\n",
    "            node['up_link'] = suf_link_node\n",
    "        else:\n",
    "            node['up_link'] = Bor[suf_link_node]['up_link']\n",
    "\n",
    "        # сладываем на стек всех потомков вершины node\n",
    "        for next_lev_node in node:\n",
    "            if node[next_lev_node] in Bor and next_lev_node not in ['term', 'suf_link'] :\n",
    "                queue.append(node[next_lev_node])\n",
    "\n",
    "\n",
    "    # Выполняем поиск            \n",
    "    node = 'root'\n",
    "    for i in range(len(text)):\n",
    "        while True:\n",
    "            if text[i] in Bor[node]: # если можем пройти по ребру дальше\n",
    "                node = Bor[node][text[i]]\n",
    "                if Bor[node]['term'] + 1: # если это терминальная вершина\n",
    "                    pat = Patterns[Bor[node]['term']]\n",
    "                    finds[pat].append(i-len(pat)+1)\n",
    "                if Bor[node]['up_link'] + 1: # если из этой вершины есть сжатая суфф ссылка\n",
    "                    pat = Patterns[Bor[Bor[node]['up_link']]['term']]\n",
    "                    finds[pat].append(i-len(pat)+1)\n",
    "                break\n",
    "            elif Bor[node]['suf_link'] + 1: # если суф ссылка не в корень\n",
    "                node = Bor[node]['suf_link']\n",
    "            else: # если суф ссылка в корень\n",
    "                break\n",
    "                \n",
    "    return finds"
   ]
  },
  {
   "cell_type": "code",
   "execution_count": 252,
   "metadata": {},
   "outputs": [
    {
     "name": "stdout",
     "output_type": "stream",
     "text": [
      "aaabaababbaa \n",
      "\n",
      "aab \t: 1 4\n",
      "ab \t: 2 5 7\n",
      "aaa \t: 0\n",
      "bab \t: 6\n",
      "bbb \t: not in text\n",
      "abb \t: 7\n",
      "ac \t: not in text\n"
     ]
    }
   ],
   "source": [
    "text = 'aaabaababbaa'\n",
    "Patterns = ['aab', 'ab', 'aaa', 'bab', 'bbb', 'abb', 'ac']\n",
    "\n",
    "finds = AC_search(text, Patterns)\n",
    "\n",
    "print(text, '\\n')\n",
    "for i in finds.items():\n",
    "    print(i[0], '\\t:', end=' ')\n",
    "    print(*i[1]) if  len(i[1]) else print('not in text')"
   ]
  }
 ],
 "metadata": {
  "kernelspec": {
   "display_name": "Python 3",
   "language": "python",
   "name": "python3"
  },
  "language_info": {
   "codemirror_mode": {
    "name": "ipython",
    "version": 3
   },
   "file_extension": ".py",
   "mimetype": "text/x-python",
   "name": "python",
   "nbconvert_exporter": "python",
   "pygments_lexer": "ipython3",
   "version": "3.7.0"
  }
 },
 "nbformat": 4,
 "nbformat_minor": 2
}
