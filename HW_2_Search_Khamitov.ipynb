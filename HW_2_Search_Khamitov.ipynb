{
 "cells": [
  {
   "cell_type": "code",
   "execution_count": 336,
   "metadata": {},
   "outputs": [],
   "source": [
    "import numpy as np"
   ]
  },
  {
   "cell_type": "markdown",
   "metadata": {},
   "source": [
    "# Rabin-Karp"
   ]
  },
  {
   "cell_type": "code",
   "execution_count": 347,
   "metadata": {},
   "outputs": [],
   "source": [
    "x_RK = 2 # должно быть случайно от 2 до q!\n",
    "\n",
    "def hashh(text, m=0, s='', q=(2**61-1), init=False):\n",
    "    global x_RK\n",
    "    \n",
    "    if init:\n",
    "        x_RK = np.random.randint(2, 10**10) # хочу randint(2, q), но не могу совладать с переполнением инта\n",
    "        print('init by x_RK =', x_RK)\n",
    "    elif not x_RK:\n",
    "        raise BaseException('Initiate hashh function to start work!')\n",
    "        \n",
    "    if not m:\n",
    "        m = len(text)\n",
    "        \n",
    "    init_arr = list(text[:m])\n",
    "    pol_coef = np.power(x_RK, np.arange(m)[::-1])\n",
    "    hs = np.sum(np.vectorize(ord)(init_arr) * pol_coef) % q\n",
    "    text += '$'\n",
    "    for i in range(len(text) - m):\n",
    "        yield hs\n",
    "        hs = ((hs - ord(text[i])*np.power(x_RK, m-1))*x_RK + ord(text[i+m])) % q"
   ]
  },
  {
   "cell_type": "code",
   "execution_count": 319,
   "metadata": {},
   "outputs": [],
   "source": [
    "# x_RK = 0\n",
    "\n",
    "# def hashh(text, m=0, s='', q=(2**61-1), init=False):\n",
    "#     global x_RK\n",
    "    \n",
    "#     if init:\n",
    "#         x_RK = np.random.randint(2, 10**10) # хочу randint(2, q), но не могу совладать с переполнением инта\n",
    "#         print('init by x_RK =', x_RK)\n",
    "#     elif not x_RK:\n",
    "#         raise BaseException('Initiate hashh function to start work!')\n",
    "        \n",
    "#     if not m:\n",
    "#         m = len(text)\n",
    "        \n",
    "#     init_arr = list(text[:m])\n",
    "#     pol_coef = np.vectorize(lambda a: pow(x_RK, int(a), q))(np.arange(m)[::-1])\n",
    "#     print(init_arr, pol_coef)\n",
    "#     hs = np.sum(np.vectorize(ord)(init_arr) * pol_coef) % q\n",
    "#     text += '$'\n",
    "#     for i in range(len(text) - m):\n",
    "#         yield hs\n",
    "#         hs = ((hs - ord(text[i])*pow(x_RK, m-1, q))*x_RK + ord(text[i+m])) % q\n",
    "#         print(text[i], text[i+m])"
   ]
  },
  {
   "cell_type": "code",
   "execution_count": 408,
   "metadata": {},
   "outputs": [],
   "source": [
    "# можно еще искать сразу несколько одинаковой длины, отсортировав предварительно Patterns, доделаю\n",
    "\n",
    "def RK_search(text, Patterns):\n",
    "    finds = []\n",
    "    for pat in Patterns:\n",
    "        f = []\n",
    "        hs_p = next(hashh(pat))\n",
    "        i = 0\n",
    "        for hs in hashh(text, len(pat)):\n",
    "            if hs == hs_p:\n",
    "                f.append(i)\n",
    "            i += 1\n",
    "        if len(f):\n",
    "            finds.append(f)\n",
    "        else:\n",
    "            finds.append(['None'])\n",
    "    return finds"
   ]
  },
  {
   "cell_type": "code",
   "execution_count": 410,
   "metadata": {},
   "outputs": [
    {
     "name": "stdout",
     "output_type": "stream",
     "text": [
      "aaabaababbaa \n",
      "\n",
      "aab \t: 1 4\n",
      "ab \t: 2 5 7\n",
      "aaa \t: 0\n",
      "bab \t: 6\n",
      "bbb \t: None\n",
      "abb \t: 7\n"
     ]
    }
   ],
   "source": [
    "text = 'aaabaababbaa'\n",
    "Patterns = ['aab', 'ab', 'aaa', 'bab', 'bbb', 'abb']\n",
    "\n",
    "finds = RK_search(text, Patterns)\n",
    "\n",
    "print(text, '\\n')\n",
    "for i in range(len(Patterns)):\n",
    "    print(Patterns[i], '\\t:', *finds[i])"
   ]
  },
  {
   "cell_type": "markdown",
   "metadata": {},
   "source": [
    "# Knuth–Morris–Pratt"
   ]
  },
  {
   "cell_type": "code",
   "execution_count": 406,
   "metadata": {},
   "outputs": [],
   "source": [
    "def pref(s):\n",
    "    n = len(s)\n",
    "    pr = np.zeros(n, dtype=np.int)\n",
    "    for i in range(n-1):\n",
    "        k = i\n",
    "        while True:\n",
    "            if s[i+1] == s[pr[k]]:\n",
    "                pr[i+1] = pr[k] + 1\n",
    "                break\n",
    "            elif pr[k] == 0:\n",
    "                pr[i+1] = 0\n",
    "                break\n",
    "            else:\n",
    "                k = pr[k]\n",
    "    return pr"
   ]
  },
  {
   "cell_type": "code",
   "execution_count": 440,
   "metadata": {},
   "outputs": [],
   "source": [
    "def KMP_search(text, pattern):\n",
    "    m = len(pattern)\n",
    "    pref_patt = pref(pattern)\n",
    "    i = 0\n",
    "    k = 0\n",
    "    while i in range(len(text)) and k in range(m):\n",
    "        if text[i] == pattern[k]:\n",
    "            i += 1\n",
    "            k += 1\n",
    "        elif k:\n",
    "            k = pref_patt[k]\n",
    "        else:\n",
    "            i += 1\n",
    "    if k == m:\n",
    "        return i - m\n",
    "    return -1"
   ]
  },
  {
   "cell_type": "code",
   "execution_count": 447,
   "metadata": {},
   "outputs": [
    {
     "name": "stdout",
     "output_type": "stream",
     "text": [
      "i = 42 \n",
      "substring = abcdabscabcdabia\n"
     ]
    }
   ],
   "source": [
    "text = 'shsjkywabcdabscabcdabhskchabcdabscafhjsganabcdabscabcdabiakwjd'\n",
    "pattern = 'abcdabscabcdabia'\n",
    "\n",
    "i = KMP_search(text, pattern)\n",
    "print('i =', i, '\\nsubstring =', text[i:i+len(pattern)])"
   ]
  },
  {
   "cell_type": "markdown",
   "metadata": {},
   "source": [
    "# Aho–Corasick"
   ]
  },
  {
   "cell_type": "code",
   "execution_count": null,
   "metadata": {},
   "outputs": [],
   "source": []
  }
 ],
 "metadata": {
  "kernelspec": {
   "display_name": "Python 3",
   "language": "python",
   "name": "python3"
  },
  "language_info": {
   "codemirror_mode": {
    "name": "ipython",
    "version": 3
   },
   "file_extension": ".py",
   "mimetype": "text/x-python",
   "name": "python",
   "nbconvert_exporter": "python",
   "pygments_lexer": "ipython3",
   "version": "3.7.0"
  }
 },
 "nbformat": 4,
 "nbformat_minor": 2
}
