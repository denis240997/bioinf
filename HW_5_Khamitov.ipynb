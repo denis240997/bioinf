{
 "cells": [
  {
   "cell_type": "code",
   "execution_count": 359,
   "metadata": {},
   "outputs": [],
   "source": [
    "import numpy as np\n",
    "import pandas as pd\n",
    "import networkx as nx"
   ]
  },
  {
   "cell_type": "markdown",
   "metadata": {},
   "source": [
    "# 1. Number of trees"
   ]
  },
  {
   "cell_type": "markdown",
   "metadata": {},
   "source": [
    "Вычислим сперва количество ребер $edge(k)$ для неукорененного дерева с $k$ листьями.\n",
    "\n",
    "\n",
    "Шаг индукции: при добавлении листа мы \"подвешиваем\" его к ребру одного из имеющихся листьев, деля это ребро на два и добавляя одно новое. Таким образом при добавлении листа количество ребер увеличивается на два. Если у нас $k$ листьев, то ребер будет $edge(k)=2k+b$. Вычислим $b$ из базы индукции. Для $k=2$ : $edge(2)=1=2*2-3$ отсюда $b=-3$ и $edge(k)=2k-3$.\n",
    "\n",
    "Заметим, что количество неукорененных деревьев $n_{unrooted}(k+1)$ с $k+1$ листьями равно числу укоренённых $n_{rooted}(k)$ с $k$ листьями. Это так поскольку новый лист мы можем подвесить на ребре к корню каждого из укорененных деревьев. В свою очередь количество укорененных деревьев $n_{rooted}(k)$ с $k$ листьями равно количеству неукорененных $n_{unrooted}(k)$ умноженному на $edge(k)$, поскольку \"подвесить\" дерево мы можем за любое ребро.\n",
    "\n",
    "Шаг индукции:\n",
    "$$\n",
    "k-1:~~~~~ n_{unrooted}(k-1)~~ = ~~m ~~~~~~~~~~~~~~~~~~~~~~~~~~ n_{rooted}(k-1) ~~= ~~m(2(k-1)-3)~~~~~ = ~~~m(2k-5)\n",
    "$$ $$\n",
    "k~~~~~~:~~~~~ n_{unrooted}(k) ~~~~~~~~~= ~~m(2k-5) ~~~~~~~~~~~~~ n_{rooted}(k) ~~~~~~~~= ~~m(2k-5)(2k-3)~~~~~~~~~~~~~~~~~~~~~~~~~\n",
    "$$\n",
    "База:\n",
    "$$\n",
    "k=3:~~~~~ n_{unrooted}(k)=1=(2k-5)!!~~~~~~~~~~~~~~~~~~~~~~~~~~~~~~~~~~~~~~~~~~~~~~~~~~~~~~~~~~~~~~~~~~~~~~~~~~~~~~~~~~~~~~~~~~~~~~~~~~~~\n",
    "$$\n",
    "\n",
    "Таким образом существует $(2k-5)!!$ неукорененных и $(2k-3)!!$ укорененных деревьев с $k$ листьями."
   ]
  },
  {
   "cell_type": "markdown",
   "metadata": {},
   "source": [
    "# 2. Weighted and Unweighted Pair Group Methods with Arithmetic Mean"
   ]
  },
  {
   "cell_type": "code",
   "execution_count": 352,
   "metadata": {},
   "outputs": [],
   "source": [
    "def WPGMA(file_name):\n",
    "    \n",
    "    # Нахождение индексов минимального элемента матрицы\n",
    "    def argmin(arr):\n",
    "        s = np.shape(arr)\n",
    "        am = arr.argmin()\n",
    "        ind = []\n",
    "        i = 0\n",
    "        for d in s:\n",
    "            i += 1\n",
    "            if len(s[i:]):\n",
    "                c = np.product(s[i:])\n",
    "            else:\n",
    "                c = 1\n",
    "            ind.append(am // c)\n",
    "            am %= c\n",
    "        return tuple(ind)\n",
    "    \n",
    "    # Чтение таблицы из текстового файла\n",
    "    with open(file_name, 'r') as matr:\n",
    "        ind = next(matr).split() # массив имен листьев дерева\n",
    "        M = np.zeros((len(ind), len(ind)))\n",
    "        i = 0\n",
    "        for line in matr:\n",
    "            M[i,:] = np.array(list(map(int, line.split())))\n",
    "            i += 1\n",
    "        M -= np.tri(*M.shape)\n",
    "        M = M.flatten()\n",
    "        M[M < 0] = np.inf\n",
    "        M = M.reshape((len(ind), len(ind)))\n",
    "        M[-1,:] = 0 # используем эту строку для хранения уже учтенного в данном узле расстояния\n",
    "\n",
    "    # Построение дерева\n",
    "    while len(ind)-1:\n",
    "        i, j = argmin(M[:-1,:])\n",
    "        w = M[i,j]\n",
    "        \n",
    "        # вместо i-го элемента теперь элемент ij\n",
    "        ind[i] = '(' + ind[i] + ':' + str(w/2 - M[-1,i]) + ', ' + ind[j] + ':' + str(w/2 - M[-1,j]) + ')'\n",
    "        del ind[j]\n",
    "        M[:-1,i] = (M[:-1,i] + M[:-1,j])/2\n",
    "        M[-1,i] += w/2 - M[-1,i]\n",
    "        \n",
    "        # вырезаем строку j и столбец j\n",
    "        if j == M.shape[0] - 1:\n",
    "            M = np.hstack((M[:,:j],M[:,j+1:]))\n",
    "        else:\n",
    "            M = np.vstack((np.hstack((M[:j,:j],M[:j,j+1:])),np.hstack((M[j+1:,:j],M[j+1:,j+1:]))))\n",
    "        \n",
    "    return ind[0]"
   ]
  },
  {
   "cell_type": "code",
   "execution_count": 353,
   "metadata": {
    "scrolled": false
   },
   "outputs": [
    {
     "name": "stdout",
     "output_type": "stream",
     "text": [
      "(K:7.25, (L:4.0, (M:2.0, N:2.0):2.0):3.25)\n"
     ]
    }
   ],
   "source": [
    "print(WPGMA('alignment_matrix_1.txt'))"
   ]
  },
  {
   "cell_type": "code",
   "execution_count": 354,
   "metadata": {
    "scrolled": false
   },
   "outputs": [
    {
     "name": "stdout",
     "output_type": "stream",
     "text": [
      "((((A:2.0, C:2.0):0.5, B:2.5):0.75, (D:2.5, E:2.5):0.75):0.75, F:4.0)\n"
     ]
    }
   ],
   "source": [
    "print(WPGMA('alignment_matrix_2.txt'))"
   ]
  },
  {
   "cell_type": "code",
   "execution_count": 355,
   "metadata": {},
   "outputs": [],
   "source": [
    "def UPGMA(file_name):\n",
    "    \n",
    "    # Определение размера кластера\n",
    "    def gr_size(s):\n",
    "        return s.count('(') + 1\n",
    "    \n",
    "    # Нахождение индексов минимального элемента матрицы\n",
    "    def argmin(arr):\n",
    "        s = np.shape(arr)\n",
    "        am = arr.argmin()\n",
    "        ind = []\n",
    "        i = 0\n",
    "        for d in s:\n",
    "            i += 1\n",
    "            if len(s[i:]):\n",
    "                c = np.product(s[i:])\n",
    "            else:\n",
    "                c = 1\n",
    "            ind.append(am // c)\n",
    "            am %= c\n",
    "        return tuple(ind)\n",
    "    \n",
    "    # Чтение таблицы из текстового файла\n",
    "    with open(file_name, 'r') as matr:\n",
    "        ind = next(matr).split() # массив имен листьев дерева\n",
    "        M = np.zeros((len(ind), len(ind)))\n",
    "        i = 0\n",
    "        for line in matr:\n",
    "            M[i,:] = np.array(list(map(int, line.split())))\n",
    "            i += 1\n",
    "        M -= np.tri(*M.shape)\n",
    "        M = M.flatten()\n",
    "        M[M < 0] = np.inf\n",
    "        M = M.reshape((len(ind), len(ind)))\n",
    "        M[-1,:] = 0 # используем эту строку для хранения уже учтенного в данном узле расстояния\n",
    "\n",
    "    # Построение дерева\n",
    "    while len(ind)-1:\n",
    "        i, j = argmin(M[:-1,:])\n",
    "        w = M[i,j]\n",
    "        \n",
    "        # вместо i-го элемента теперь элемент ij\n",
    "        M[:-1,i] = (M[:-1,i]*gr_size(ind[i]) + M[:-1,j]*gr_size(ind[j]))/(gr_size(ind[i]) + gr_size(ind[j]))\n",
    "        ind[i] = '(' + ind[i] + ':' + str(w/2 - M[-1,i]) + ', ' + ind[j] + ':' + str(w/2 - M[-1,j]) + ')'\n",
    "        del ind[j]\n",
    "        \n",
    "        # вырезаем строку j и столбец j\n",
    "        if j == M.shape[0] - 1:\n",
    "            M = np.hstack((M[:,:j],M[:,j+1:]))\n",
    "        else:\n",
    "            M = np.vstack((np.hstack((M[:j,:j],M[:j,j+1:])),np.hstack((M[j+1:,:j],M[j+1:,j+1:]))))\n",
    "        \n",
    "    return ind[0]"
   ]
  },
  {
   "cell_type": "code",
   "execution_count": 356,
   "metadata": {
    "scrolled": false
   },
   "outputs": [
    {
     "name": "stdout",
     "output_type": "stream",
     "text": [
      "(K:7.0, (L:4.0, (M:2.0, N:2.0):4.0):7.0)\n"
     ]
    }
   ],
   "source": [
    "print(UPGMA('alignment_matrix_1.txt'))"
   ]
  },
  {
   "cell_type": "code",
   "execution_count": 357,
   "metadata": {
    "scrolled": false
   },
   "outputs": [
    {
     "name": "stdout",
     "output_type": "stream",
     "text": [
      "((((A:2.0, C:2.0):2.5, B:2.5):3.25, (D:2.5, E:2.5):3.25):4.0, F:4.0)\n"
     ]
    }
   ],
   "source": [
    "print(UPGMA('alignment_matrix_2.txt'))"
   ]
  },
  {
   "cell_type": "markdown",
   "metadata": {},
   "source": [
    "# 3. Neighbor joining"
   ]
  },
  {
   "cell_type": "code",
   "execution_count": 358,
   "metadata": {},
   "outputs": [],
   "source": [
    "def NJ(file_name):\n",
    "    \n",
    "    # Нахождение индексов минимального элемента матрицы\n",
    "    def argmin(arr):\n",
    "        s = np.shape(arr)\n",
    "        am = arr.argmin()\n",
    "        ind = []\n",
    "        i = 0\n",
    "        for d in s:\n",
    "            i += 1\n",
    "            if len(s[i:]):\n",
    "                c = np.product(s[i:])\n",
    "            else:\n",
    "                c = 1\n",
    "            ind.append(am // c)\n",
    "            am %= c\n",
    "        return tuple(ind)\n",
    "    \n",
    "    # Чтение таблицы из текстового файла\n",
    "    with open(file_name, 'r') as matr:\n",
    "        ind = next(matr).split() # массив имен листьев дерева\n",
    "        M = np.zeros((len(ind), len(ind)))\n",
    "        i = 0\n",
    "        for line in matr:\n",
    "            M[i,:] = np.array(list(map(int, line.split())))\n",
    "            i += 1\n",
    "        M += M.T\n",
    "        \n",
    "    # Вычисление Q-матрицы и нахождение индекса минимального элемента    \n",
    "    def Q_min(M):\n",
    "        n = M.shape[0]\n",
    "        Q = np.zeros_like(M)\n",
    "        for i in range(n):\n",
    "            for j in range(n):\n",
    "                Q[i,j] = (n-2)*M[i,j] - np.sum(M[i,:] + M[j,:])\n",
    "        return argmin(Q + np.diag(np.ones(n)*np.inf))\n",
    "    \n",
    "    Tree = nx.Graph() # Неукорененное дерево которое мы будем строить\n",
    "    \n",
    "    while M.shape[0] > 2:\n",
    "        i, j = Q_min(M)\n",
    "        u = ind[i] + ind[j] # новая вершина - родитель i и j\n",
    "        d_iu = M[i,j]/2 + np.sum(M[i,:] - M[j,:])/(2*(M.shape[0]-2)) # расстояние i-u\n",
    "        d_ju = M[i,j] - d_iu # расстояние j-u\n",
    "\n",
    "        # добавляем в дерево наши взвешенные ребра \n",
    "        Tree.add_edge(ind[i], u, weight=d_iu)\n",
    "        Tree.add_edge(ind[j], u, weight=d_ju) \n",
    "\n",
    "        # обновляем список элементов\n",
    "        ind[i] = u\n",
    "        del ind[j]    \n",
    "\n",
    "        # вместо i-го элемента теперь элемент u\n",
    "        M_u = (M[i,:] + M[j,:] - M[i,j])/2\n",
    "        M[i,:] = M_u\n",
    "        M[:,i] = M_u\n",
    "\n",
    "        # вырезаем строку j и столбец j\n",
    "        M = np.vstack((np.hstack((M[:j,:j],M[:j,j+1:])),np.hstack((M[j+1:,:j],M[j+1:,j+1:]))))\n",
    "    \n",
    "    # объединяем две оставшиеся вершины\n",
    "    Tree.add_edge(ind[0], ind[1], weight=M[0,1]) \n",
    "    \n",
    "    return Tree"
   ]
  },
  {
   "cell_type": "code",
   "execution_count": 338,
   "metadata": {},
   "outputs": [
    {
     "name": "stderr",
     "output_type": "stream",
     "text": [
      "/home/hamit/anaconda3/lib/python3.7/site-packages/networkx/drawing/nx_pylab.py:611: MatplotlibDeprecationWarning: isinstance(..., numbers.Number)\n",
      "  if cb.is_numlike(alpha):\n"
     ]
    },
    {
     "data": {
      "image/png": "[encoded data removed]",
      "text/plain": [
       "<Figure size 432x288 with 1 Axes>"
      ]
     },
     "metadata": {},
     "output_type": "display_data"
    }
   ],
   "source": [
    "nx.draw(NJ('alignment_matrix_1.txt'), with_labels=True, with_weights=True, font_weight='bold')"
   ]
  },
  {
   "cell_type": "code",
   "execution_count": 318,
   "metadata": {},
   "outputs": [
    {
     "name": "stderr",
     "output_type": "stream",
     "text": [
      "/home/hamit/anaconda3/lib/python3.7/site-packages/networkx/drawing/nx_pylab.py:611: MatplotlibDeprecationWarning: isinstance(..., numbers.Number)\n",
      "  if cb.is_numlike(alpha):\n"
     ]
    },
    {
     "data": {
      "image/png": "[encoded data removed]",
      "text/plain": [
       "<Figure size 432x288 with 1 Axes>"
      ]
     },
     "metadata": {},
     "output_type": "display_data"
    }
   ],
   "source": [
    "nx.draw(NJ('alignment_matrix_2.txt'), with_labels=True, with_weights=True, font_weight='bold')"
   ]
  }
 ],
 "metadata": {
  "kernelspec": {
   "display_name": "Python 3",
   "language": "python",
   "name": "python3"
  },
  "language_info": {
   "codemirror_mode": {
    "name": "ipython",
    "version": 3
   },
   "file_extension": ".py",
   "mimetype": "text/x-python",
   "name": "python",
   "nbconvert_exporter": "python",
   "pygments_lexer": "ipython3",
   "version": "3.7.0"
  }
 },
 "nbformat": 4,
 "nbformat_minor": 2
}
