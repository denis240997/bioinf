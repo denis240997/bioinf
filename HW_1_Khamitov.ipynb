{
 "cells": [
  {
   "cell_type": "code",
   "execution_count": 1,
   "metadata": {},
   "outputs": [],
   "source": [
    "import numpy as np\n",
    "from random import randint\n",
    "from itertools import combinations"
   ]
  },
  {
   "cell_type": "markdown",
   "metadata": {},
   "source": [
    "# Задание 1"
   ]
  },
  {
   "cell_type": "code",
   "execution_count": 118,
   "metadata": {},
   "outputs": [],
   "source": [
    "def comb(a, b):\n",
    "    n, m = len(a), len(b)\n",
    "    t = 0\n",
    "    for ind in combinations([i for i in range(n + m)], n):\n",
    "        s = ''\n",
    "        i, j = 0, 0\n",
    "        for c in range(n + m):\n",
    "            if c in ind:\n",
    "                s += a[i]\n",
    "                i += 1\n",
    "            else:\n",
    "                s += b[j]\n",
    "                j += 1\n",
    "        t += 1\n",
    "        print(t, ') ', s, ':', sep='', end='')\n",
    "        \n",
    "        a1, b1 = list('-'*(n+m)), list('-'*(n+m))\n",
    "        if 0 in ind:\n",
    "            a1[0] = s[0]\n",
    "            tr = 0\n",
    "        else:\n",
    "            b1[0] = s[0]\n",
    "            tr = 1\n",
    "        c = 1\n",
    "        while c < n + m:\n",
    "            if c in ind and tr == 0:\n",
    "                a1[c] = s[c]\n",
    "            elif c in ind and tr != 0:\n",
    "                a1[c-1] = s[c]\n",
    "                tr = 0\n",
    "            elif c not in ind and tr == 0:\n",
    "                b1[c] = s[c]\n",
    "                tr = 1\n",
    "            elif c not in ind and tr != 0:\n",
    "                b1[c] = s[c]\n",
    "            c += 1\n",
    "            \n",
    "        for i in range(n + m)[::-1]:\n",
    "            if a1[i] == '-' and b1[i] == '-':\n",
    "                del a1[i]\n",
    "                del b1[i]\n",
    "                \n",
    "        print('\\t', ''.join(a1))\n",
    "        print(' '*(n+m+3), '\\t', ''.join(b1), '\\n')"
   ]
  },
  {
   "cell_type": "markdown",
   "metadata": {},
   "source": [
    "Процесс конструирования выравниваний строк длин $ n $ и $ m $ сводится к размещению символов одной строки среди символов другой без изменения порядка следования символов каждой из строк между собой. В данном случае несколько подряд идущих символов одной строки соответствуют разрыву соответствующего размера в другой. Таких комбинаций сохраняющих порядок внутри каждой из строк существует $ C^{n}_{n+m} = C^{m}_{n+m} $\n",
    "\n",
    "Рассмотрим пример. Найдем все выравнивания строк ABCD и xyz и подсчитаем иx количество. Приведенный алгоритм предсказывает $ C^{3}_{7} = 35 $ выравниваний.\n",
    "\n",
    "Запустим функцию, генерирующую такие выравнивания и убедимся в наличии всех возможных вариантов!"
   ]
  },
  {
   "cell_type": "code",
   "execution_count": 119,
   "metadata": {
    "scrolled": false
   },
   "outputs": [
    {
     "name": "stdout",
     "output_type": "stream",
     "text": [
      "1) ABCDefj:\t ABCD---\n",
      "           \t ----efj \n",
      "\n",
      "2) ABCeDfj:\t ABCD--\n",
      "           \t ---efj \n",
      "\n",
      "3) ABCefDj:\t ABC-D-\n",
      "           \t ---efj \n",
      "\n",
      "4) ABCefjD:\t ABC--D\n",
      "           \t ---efj \n",
      "\n",
      "5) ABeCDfj:\t ABCD--\n",
      "           \t --e-fj \n",
      "\n",
      "6) ABeCfDj:\t ABCD-\n",
      "           \t --efj \n",
      "\n",
      "7) ABeCfjD:\t ABC-D\n",
      "           \t --efj \n",
      "\n",
      "8) ABefCDj:\t AB-CD-\n",
      "           \t --ef-j \n",
      "\n",
      "9) ABefCjD:\t AB-CD\n",
      "           \t --efj \n",
      "\n",
      "10) ABefjCD:\t AB--CD\n",
      "           \t --efj- \n",
      "\n",
      "11) AeBCDfj:\t ABCD--\n",
      "           \t -e--fj \n",
      "\n",
      "12) AeBCfDj:\t ABCD-\n",
      "           \t -e-fj \n",
      "\n",
      "13) AeBCfjD:\t ABC-D\n",
      "           \t -e-fj \n",
      "\n",
      "14) AeBfCDj:\t ABCD-\n",
      "           \t -ef-j \n",
      "\n",
      "15) AeBfCjD:\t ABCD\n",
      "           \t -efj \n",
      "\n",
      "16) AeBfjCD:\t AB-CD\n",
      "           \t -efj- \n",
      "\n",
      "17) AefBCDj:\t A-BCD-\n",
      "           \t -ef--j \n",
      "\n",
      "18) AefBCjD:\t A-BCD\n",
      "           \t -ef-j \n",
      "\n",
      "19) AefBjCD:\t A-BCD\n",
      "           \t -efj- \n",
      "\n",
      "20) AefjBCD:\t A--BCD\n",
      "           \t -efj-- \n",
      "\n",
      "21) eABCDfj:\t ABCD--\n",
      "           \t e---fj \n",
      "\n",
      "22) eABCfDj:\t ABCD-\n",
      "           \t e--fj \n",
      "\n",
      "23) eABCfjD:\t ABC-D\n",
      "           \t e--fj \n",
      "\n",
      "24) eABfCDj:\t ABCD-\n",
      "           \t e-f-j \n",
      "\n",
      "25) eABfCjD:\t ABCD\n",
      "           \t e-fj \n",
      "\n",
      "26) eABfjCD:\t AB-CD\n",
      "           \t e-fj- \n",
      "\n",
      "27) eAfBCDj:\t ABCD-\n",
      "           \t ef--j \n",
      "\n",
      "28) eAfBCjD:\t ABCD\n",
      "           \t ef-j \n",
      "\n",
      "29) eAfBjCD:\t ABCD\n",
      "           \t efj- \n",
      "\n",
      "30) eAfjBCD:\t A-BCD\n",
      "           \t efj-- \n",
      "\n",
      "31) efABCDj:\t -ABCD-\n",
      "           \t ef---j \n",
      "\n",
      "32) efABCjD:\t -ABCD\n",
      "           \t ef--j \n",
      "\n",
      "33) efABjCD:\t -ABCD\n",
      "           \t ef-j- \n",
      "\n",
      "34) efAjBCD:\t -ABCD\n",
      "           \t efj-- \n",
      "\n",
      "35) efjABCD:\t --ABCD\n",
      "           \t efj--- \n",
      "\n"
     ]
    }
   ],
   "source": [
    "comb('ABCD', 'efj')"
   ]
  },
  {
   "cell_type": "markdown",
   "metadata": {},
   "source": [
    "# Задание 2"
   ]
  },
  {
   "cell_type": "markdown",
   "metadata": {},
   "source": [
    "Можно считать строки из файла"
   ]
  },
  {
   "cell_type": "code",
   "execution_count": null,
   "metadata": {},
   "outputs": [],
   "source": [
    "# a, b = '', ''\n",
    "\n",
    "# with open('strings_for_alignment.txt', 'r') as f:\n",
    "#     a = f.readline().rstrip()\n",
    "#     b = f.readline().rstrip()"
   ]
  },
  {
   "cell_type": "markdown",
   "metadata": {},
   "source": [
    "А можно ввести вручную"
   ]
  },
  {
   "cell_type": "code",
   "execution_count": 140,
   "metadata": {},
   "outputs": [],
   "source": [
    "a = 'editing'\n",
    "b = 'distance'"
   ]
  },
  {
   "cell_type": "markdown",
   "metadata": {},
   "source": [
    "Задаем массив весов"
   ]
  },
  {
   "cell_type": "code",
   "execution_count": 141,
   "metadata": {},
   "outputs": [],
   "source": [
    "W = {'match':1, 'mismatch':-1, 'gap':-1}"
   ]
  },
  {
   "cell_type": "markdown",
   "metadata": {},
   "source": [
    "## Выравниваем "
   ]
  },
  {
   "cell_type": "code",
   "execution_count": 153,
   "metadata": {},
   "outputs": [],
   "source": [
    "def align(a, b, W):\n",
    "    \n",
    "    def diff(i, j):\n",
    "        if a[i] == b[j]:\n",
    "            return 'match'\n",
    "        return 'mismatch'\n",
    "    \n",
    "    n, m = len(a), len(b)\n",
    "\n",
    "    D = np.empty((n+1, m+1))\n",
    "    D[0,:] = np.arange(m+1)*W['gap']\n",
    "    D[:,0] = np.arange(n+1)*W['gap']\n",
    "    \n",
    "    for i in range(1, n+1):\n",
    "        for j in range(1, m+1):\n",
    "            D[i, j] = max(D[i-1, j] + W['gap'], D[i, j-1] + W['gap'], D[i-1, j-1] + W[diff(i-1, j-1)])\n",
    "            \n",
    "    i, j = n, m\n",
    "    a1, b1, mtc = '', '', ''\n",
    "\n",
    "    while i + j > 0:\n",
    "        if D[i, j] == D[i-1, j] + W['gap']:\n",
    "            a1 += a[i-1]\n",
    "            b1 += '-'\n",
    "            mtc += ' '\n",
    "            i -= 1\n",
    "        elif D[i, j] == D[i, j-1] + W['gap']:\n",
    "            a1 += '-'\n",
    "            b1 += b[j-1]\n",
    "            mtc += ' '\n",
    "            j -= 1\n",
    "        else:\n",
    "            a1 += a[i-1]\n",
    "            b1 += b[j-1]\n",
    "            if a[i-1] == b[j-1]:\n",
    "                mtc += '|'\n",
    "            else:\n",
    "                mtc += ' '\n",
    "            i -= 1\n",
    "            j -= 1\n",
    "            \n",
    "    print(a1[::-1])\n",
    "    print(mtc[::-1])\n",
    "    print(b1[::-1])"
   ]
  },
  {
   "cell_type": "code",
   "execution_count": 147,
   "metadata": {},
   "outputs": [
    {
     "name": "stdout",
     "output_type": "stream",
     "text": [
      "edi-ting-\n",
      " || | |  \n",
      "-distance\n"
     ]
    }
   ],
   "source": [
    "align(a, b, W)"
   ]
  },
  {
   "cell_type": "markdown",
   "metadata": {},
   "source": [
    "### Тест 1"
   ]
  },
  {
   "cell_type": "code",
   "execution_count": 149,
   "metadata": {},
   "outputs": [],
   "source": [
    "a = 'qqqaaaaaGaaaaa'\n",
    "b = 'aaaaaCaaaaabbb'"
   ]
  },
  {
   "cell_type": "code",
   "execution_count": 150,
   "metadata": {},
   "outputs": [
    {
     "name": "stdout",
     "output_type": "stream",
     "text": [
      "qqqaaaaaGaaaaa---\n",
      "   ||||| |||||   \n",
      "---aaaaaCaaaaabbb\n"
     ]
    }
   ],
   "source": [
    "align(a, b, W)"
   ]
  },
  {
   "cell_type": "markdown",
   "metadata": {},
   "source": [
    "### Тест 2"
   ]
  },
  {
   "cell_type": "code",
   "execution_count": 154,
   "metadata": {},
   "outputs": [],
   "source": [
    "W = {'match':1, 'mismatch':-1, 'gap':-0.499}"
   ]
  },
  {
   "cell_type": "code",
   "execution_count": 155,
   "metadata": {},
   "outputs": [
    {
     "name": "stdout",
     "output_type": "stream",
     "text": [
      "qqqaaaaa-Gaaaaa---\n",
      "   |||||  |||||   \n",
      "---aaaaaC-aaaaabbb\n"
     ]
    }
   ],
   "source": [
    "align(a, b, W)"
   ]
  },
  {
   "cell_type": "markdown",
   "metadata": {},
   "source": [
    "# Задание 3"
   ]
  },
  {
   "cell_type": "markdown",
   "metadata": {},
   "source": [
    "Считывем из файла таблицу весов PAM250"
   ]
  },
  {
   "cell_type": "code",
   "execution_count": 138,
   "metadata": {},
   "outputs": [],
   "source": [
    "W = np.empty((25,25), dtype=np.int)\n",
    "ind = {}\n",
    "\n",
    "f = open('PAM_250.txt', 'r')\n",
    "amino = f.readline().split()[1:]\n",
    "ind = {amino[i]:i for i in range(25)}\n",
    "for i in range(25):\n",
    "    W[i,:] = np.array(f.readline().split()[2:])\n",
    "    \n",
    "f.close()"
   ]
  },
  {
   "cell_type": "markdown",
   "metadata": {},
   "source": [
    "Создаем независимо мутировавшие аминокислотные последовательности "
   ]
  },
  {
   "cell_type": "code",
   "execution_count": 122,
   "metadata": {},
   "outputs": [],
   "source": [
    "def mutogenesis(s, num, max_len):\n",
    "    for _ in range(num):\n",
    "        pos = randint(0, len(s)-1)\n",
    "        ins = randint(1,max_len)\n",
    "        dlt = randint(1,max_len)\n",
    "        s = s[:pos] + ''.join([amino[randint(0, 19)] for _ in range(ins)]) + s[pos+dlt:]\n",
    "    return s"
   ]
  },
  {
   "cell_type": "code",
   "execution_count": 124,
   "metadata": {},
   "outputs": [
    {
     "name": "stdout",
     "output_type": "stream",
     "text": [
      "KTMYRYIMTNYAKANNSYWWLRWHTGFKIYNEMDGEYCYLSCMDIHWQDWLMYFMPGAQCLEHDGCDQYTFRT\n",
      "KTFYFRYIMTYICKGLSYAMIDGQYNEMDGEYCYLSCMDIHWQDYYLIRCMPGAQCMCDAPHDGCPGGTM\n"
     ]
    }
   ],
   "source": [
    "A = ''.join([amino[randint(0, 19)] for _ in range(70)])\n",
    "B = A\n",
    "A = mutogenesis(A, 10, 3)\n",
    "B = mutogenesis(B, 10, 3)\n",
    "print(A)\n",
    "print(B)"
   ]
  },
  {
   "cell_type": "markdown",
   "metadata": {},
   "source": [
    "Понравились? Запомним их"
   ]
  },
  {
   "cell_type": "code",
   "execution_count": 125,
   "metadata": {},
   "outputs": [],
   "source": [
    "a, b = A, B"
   ]
  },
  {
   "cell_type": "markdown",
   "metadata": {},
   "source": [
    "## Выравниваем"
   ]
  },
  {
   "cell_type": "code",
   "execution_count": 136,
   "metadata": {},
   "outputs": [],
   "source": [
    "def align_w(a, b, W): \n",
    "    \n",
    "    def gap_w(s):\n",
    "        w = np.zeros((len(s)+1))\n",
    "        for i in range(1, len(s)+1):\n",
    "            w[i] = w[i-1] + W[ind[s[i-1]], ind['-']]\n",
    "        return w\n",
    "    \n",
    "    def edit_dist(a, b):\n",
    "        w = 0\n",
    "        for i in range(len(a)):\n",
    "            w += W[ind[a[i]], ind[b[i]]]\n",
    "        return w\n",
    "\n",
    "    n, m = len(a), len(b)\n",
    "    D = np.empty((n+1, m+1), dtype=np.int)\n",
    "    D[:,0] = gap_w(a)\n",
    "    D[0,:] = gap_w(b)\n",
    "    \n",
    "    for i in range(1, n+1):\n",
    "        for j in range(1, m+1):\n",
    "            a_gap = D[i, j-1] + W[ind[b[j-1]], ind['-']]\n",
    "            b_gap = D[i-1, j] + W[ind[a[i-1]], ind['-']]\n",
    "            match = D[i-1, j-1] + W[ind[a[i-1]], ind[b[j-1]]]\n",
    "            D[i, j] = max(a_gap, b_gap, match)\n",
    "            \n",
    "    i, j = n, m\n",
    "    a1, b1, mtc = '', '', ''\n",
    "\n",
    "    while i + j > 0:\n",
    "        if D[i, j] == D[i-1, j] + W[ind[a[i-1]], ind['-']]:\n",
    "            a1 += a[i-1]\n",
    "            b1 += '-'\n",
    "            mtc += ' '\n",
    "            i -= 1\n",
    "        elif D[i, j] == D[i, j-1] + W[ind[b[j-1]], ind['-']]:\n",
    "            a1 += '-'\n",
    "            b1 += b[j-1]\n",
    "            mtc += ' '\n",
    "            j -= 1\n",
    "        else:\n",
    "            a1 += a[i-1]\n",
    "            b1 += b[j-1]\n",
    "            if a[i-1] == b[j-1]:\n",
    "                mtc += '|'\n",
    "            else:\n",
    "                mtc += ' '\n",
    "            i -= 1\n",
    "            j -= 1\n",
    "            \n",
    "    assert edit_dist(a1,b1) == D[-1,-1]\n",
    "    \n",
    "    print(a1[::-1])\n",
    "    print(mtc[::-1])\n",
    "    print(b1[::-1])\n",
    "    \n",
    "    return a1, b1"
   ]
  },
  {
   "cell_type": "code",
   "execution_count": 139,
   "metadata": {},
   "outputs": [
    {
     "name": "stdout",
     "output_type": "stream",
     "text": [
      "KTMY-RYIMTNYAKANNSYWWLRWHTGFKIYNEMDGEYCYLSCMDIHWQDW-LMYFMPGAQCL-E--HDGCDQYTFRT\n",
      "|| | ||||| |     ||       |   ||||||||||||||||||||  |   ||||||     ||||   |   \n",
      "KTFYFRYIMT-YICKGLSYA-MI-D-G-Q-YNEMDGEYCYLSCMDIHWQDYYLIRCMPGAQCMCDAPHDGCPGGTM--\n",
      "\n"
     ]
    }
   ],
   "source": [
    "a1, b1 = align_w(a, b, W)\n",
    "print()"
   ]
  },
  {
   "cell_type": "markdown",
   "metadata": {},
   "source": [
    "### Test "
   ]
  },
  {
   "cell_type": "markdown",
   "metadata": {},
   "source": [
    "Попробуем испортить как минимум последнюю позицию выравнивания"
   ]
  },
  {
   "cell_type": "code",
   "execution_count": 134,
   "metadata": {},
   "outputs": [],
   "source": [
    "W[ind[a1[0]], ind[b1[0]]] = -9999\n",
    "W[ind[b1[0]], ind[a1[0]]] = -9999"
   ]
  },
  {
   "cell_type": "code",
   "execution_count": 135,
   "metadata": {},
   "outputs": [
    {
     "name": "stdout",
     "output_type": "stream",
     "text": [
      "KTMY-RYIMTNYAKANNSYWWLRWHTGFKIYNEMDGEYCYLSCMDIHWQDW-LMYFMPGAQCL-E--HDGCDQYTFRT\n",
      "|| | ||||| |     ||       |   ||||||||||||||||||||  |   ||||||     ||||       \n",
      "KTFYFRYIMT-YICKGLSYA-MI--DG-Q-YNEMDGEYCYLSCMDIHWQDYYLIRCMPGAQCMCDAPHDGCPG-G-TM\n",
      "\n"
     ]
    }
   ],
   "source": [
    "align_w(a, b, W)\n",
    "print()"
   ]
  },
  {
   "cell_type": "markdown",
   "metadata": {},
   "source": [
    "Готово!"
   ]
  }
 ],
 "metadata": {
  "kernelspec": {
   "display_name": "Python 3",
   "language": "python",
   "name": "python3"
  },
  "language_info": {
   "codemirror_mode": {
    "name": "ipython",
    "version": 3
   },
   "file_extension": ".py",
   "mimetype": "text/x-python",
   "name": "python",
   "nbconvert_exporter": "python",
   "pygments_lexer": "ipython3",
   "version": "3.7.0"
  }
 },
 "nbformat": 4,
 "nbformat_minor": 2
}
