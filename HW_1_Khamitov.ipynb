{
 "cells": [
  {
   "cell_type": "code",
   "execution_count": 1,
   "metadata": {},
   "outputs": [],
   "source": [
    "import numpy as np\n",
    "from random import randint"
   ]
  },
  {
   "cell_type": "markdown",
   "metadata": {},
   "source": [
    "# Задание 1"
   ]
  },
  {
   "cell_type": "markdown",
   "metadata": {},
   "source": [
    "Процесс конструирования выравниваний строк длин $ n $ и $ m $ сводится к размещению символов одной строки среди символов другой без изменения порядка следования символов каждой из строк между собой. В данном случае несколько подряд идущих символов одной строки соответствуют разрыву соответствующего размера в другой. Таких комбинаций сохраняющих порядок внутри каждой из строк существует $ C^{n}_{n+m} = C^{m}_{n+m} $"
   ]
  },
  {
   "cell_type": "markdown",
   "metadata": {},
   "source": [
    "# Задание 2"
   ]
  },
  {
   "cell_type": "markdown",
   "metadata": {},
   "source": [
    "Можно считать строки из файла"
   ]
  },
  {
   "cell_type": "code",
   "execution_count": null,
   "metadata": {},
   "outputs": [],
   "source": [
    "# a, b = '', ''\n",
    "\n",
    "# with open('strings_for_alignment.txt', 'r') as f:\n",
    "#     a = f.readline().rstrip()\n",
    "#     b = f.readline().rstrip()"
   ]
  },
  {
   "cell_type": "markdown",
   "metadata": {},
   "source": [
    "А можно ввести вручную"
   ]
  },
  {
   "cell_type": "code",
   "execution_count": 285,
   "metadata": {},
   "outputs": [],
   "source": [
    "a = 'editing'\n",
    "b = 'distance'"
   ]
  },
  {
   "cell_type": "markdown",
   "metadata": {},
   "source": [
    "Задаем массив весов"
   ]
  },
  {
   "cell_type": "code",
   "execution_count": 286,
   "metadata": {},
   "outputs": [],
   "source": [
    "W = {'match':1, 'mismatch':-1, 'gap':-1}"
   ]
  },
  {
   "cell_type": "markdown",
   "metadata": {},
   "source": [
    "## Выравниваем "
   ]
  },
  {
   "cell_type": "code",
   "execution_count": 287,
   "metadata": {},
   "outputs": [],
   "source": [
    "def diff(i, j):\n",
    "    if a[i] == b[j]:\n",
    "        return 'match'\n",
    "    return 'mismatch'"
   ]
  },
  {
   "cell_type": "code",
   "execution_count": 299,
   "metadata": {},
   "outputs": [],
   "source": [
    "n, m = len(a), len(b)\n",
    "\n",
    "D = np.empty((n+1, m+1)) #, dtype=np.int)\n",
    "D[0,:] = np.arange(m+1)*W['gap']\n",
    "D[:,0] = np.arange(n+1)*W['gap']"
   ]
  },
  {
   "cell_type": "code",
   "execution_count": 300,
   "metadata": {},
   "outputs": [],
   "source": [
    "for i in range(1, n+1):\n",
    "    for j in range(1, m+1):\n",
    "        D[i, j] = max(D[i-1, j] + W['gap'], D[i, j-1] + W['gap'], D[i-1, j-1] + W[diff(i-1, j-1)])"
   ]
  },
  {
   "cell_type": "markdown",
   "metadata": {},
   "source": [
    "Восстанавливаем выравнивания"
   ]
  },
  {
   "cell_type": "code",
   "execution_count": 301,
   "metadata": {},
   "outputs": [],
   "source": [
    "i, j = n, m\n",
    "a1, b1 = '', ''\n",
    "\n",
    "while i + j > 0:\n",
    "    if D[i, j] == D[i-1, j] + W['gap']:\n",
    "        a1 += a[i-1]\n",
    "        b1 += '-'\n",
    "        i -= 1\n",
    "    elif D[i, j] == D[i, j-1] + W['gap']:\n",
    "        a1 += '-'\n",
    "        b1 += b[j-1]\n",
    "        j -= 1\n",
    "    else:\n",
    "        a1 += a[i-1]\n",
    "        b1 += b[j-1]\n",
    "        i -= 1\n",
    "        j -= 1"
   ]
  },
  {
   "cell_type": "code",
   "execution_count": 291,
   "metadata": {},
   "outputs": [
    {
     "name": "stdout",
     "output_type": "stream",
     "text": [
      "edi-ting-\n",
      "-distance\n"
     ]
    }
   ],
   "source": [
    "print(a1[::-1])\n",
    "print(b1[::-1])"
   ]
  },
  {
   "cell_type": "markdown",
   "metadata": {},
   "source": [
    "### Тест 1"
   ]
  },
  {
   "cell_type": "code",
   "execution_count": 292,
   "metadata": {},
   "outputs": [],
   "source": [
    "a = 'qqqaaaaaGaaaaa'\n",
    "b = 'aaaaaCaaaaabbb'"
   ]
  },
  {
   "cell_type": "code",
   "execution_count": 296,
   "metadata": {},
   "outputs": [
    {
     "name": "stdout",
     "output_type": "stream",
     "text": [
      "qqqaaaaaGaaaaa---\n",
      "---aaaaaCaaaaabbb\n"
     ]
    }
   ],
   "source": [
    "print(a1[::-1])\n",
    "print(b1[::-1])"
   ]
  },
  {
   "cell_type": "markdown",
   "metadata": {},
   "source": [
    "### Тест 2"
   ]
  },
  {
   "cell_type": "code",
   "execution_count": 297,
   "metadata": {},
   "outputs": [],
   "source": [
    "W = {'match':1, 'mismatch':-1, 'gap':-0.499}"
   ]
  },
  {
   "cell_type": "code",
   "execution_count": 302,
   "metadata": {},
   "outputs": [
    {
     "name": "stdout",
     "output_type": "stream",
     "text": [
      "qqqaaaaa-Gaaaaa---\n",
      "---aaaaaC-aaaaabbb\n"
     ]
    }
   ],
   "source": [
    "print(a1[::-1])\n",
    "print(b1[::-1])"
   ]
  },
  {
   "cell_type": "markdown",
   "metadata": {},
   "source": [
    "# Задание 3"
   ]
  },
  {
   "cell_type": "markdown",
   "metadata": {},
   "source": [
    "Считывем из файла таблицу весов PAM250"
   ]
  },
  {
   "cell_type": "code",
   "execution_count": 23,
   "metadata": {},
   "outputs": [],
   "source": [
    "W = np.empty((25,25), dtype=np.int)\n",
    "ind = {}\n",
    "\n",
    "f = open('PAM_250.txt', 'r')\n",
    "amino = f.readline().split()[1:]\n",
    "ind = {amino[i]:i for i in range(25)}\n",
    "for i in range(25):\n",
    "    W[i,:] = np.array(f.readline().split()[2:])\n",
    "    \n",
    "f.close()"
   ]
  },
  {
   "cell_type": "markdown",
   "metadata": {},
   "source": [
    "Создаем независимо мутировавшие аминокислотные последовательности "
   ]
  },
  {
   "cell_type": "code",
   "execution_count": 3,
   "metadata": {},
   "outputs": [],
   "source": [
    "def mutogenesis(s, num, max_len):\n",
    "    for _ in range(num):\n",
    "        pos = randint(0, len(s)-1)\n",
    "        ins = randint(1,max_len)\n",
    "        dlt = randint(1,max_len)\n",
    "        s = s[:pos] + ''.join([amino[randint(0, 19)] for _ in range(ins)]) + s[pos+dlt:]\n",
    "    return s"
   ]
  },
  {
   "cell_type": "code",
   "execution_count": 4,
   "metadata": {},
   "outputs": [
    {
     "name": "stdout",
     "output_type": "stream",
     "text": [
      "CYVSMNDKILFDMLYHEGRYELDLMTHGVYYTLLWATADLRTMLYDSQNGSFSAQTYDFDNQKMISCEQA\n",
      "CWDMNDKILFGYHEGGFVMTHYVYYCGLWATAPLWECISAQMCNGSFWLSAQSVYEVFKMISCEQS\n"
     ]
    }
   ],
   "source": [
    "A = ''.join([amino[randint(0, 19)] for _ in range(70)])\n",
    "B = A\n",
    "A = mutogenesis(A, 10, 3)\n",
    "B = mutogenesis(B, 10, 3)\n",
    "print(A)\n",
    "print(B)"
   ]
  },
  {
   "cell_type": "markdown",
   "metadata": {},
   "source": [
    "Понравились? Запомним их"
   ]
  },
  {
   "cell_type": "code",
   "execution_count": 5,
   "metadata": {},
   "outputs": [],
   "source": [
    "a, b = A, B"
   ]
  },
  {
   "cell_type": "markdown",
   "metadata": {},
   "source": [
    "## Выравниваем"
   ]
  },
  {
   "cell_type": "code",
   "execution_count": 16,
   "metadata": {},
   "outputs": [],
   "source": [
    "def gap_w(s):\n",
    "    w = np.zeros((len(s)+1))\n",
    "    for i in range(1, len(s)+1):\n",
    "        w[i] = w[i-1] + W[ind[s[i-1]], ind['-']]\n",
    "    return w"
   ]
  },
  {
   "cell_type": "code",
   "execution_count": 25,
   "metadata": {},
   "outputs": [],
   "source": [
    "n, m = len(a), len(b)\n",
    "\n",
    "D = np.empty((n+1, m+1), dtype=np.int)\n",
    "D[:,0] = gap_w(a)\n",
    "D[0,:] = gap_w(b)"
   ]
  },
  {
   "cell_type": "code",
   "execution_count": 26,
   "metadata": {},
   "outputs": [],
   "source": [
    "for i in range(1, n+1):\n",
    "    for j in range(1, m+1):\n",
    "        a_gap = D[i, j-1] + W[ind[b[j-1]], ind['-']]\n",
    "        b_gap = D[i-1, j] + W[ind[a[i-1]], ind['-']]\n",
    "        match = D[i-1, j-1] + W[ind[a[i-1]], ind[b[j-1]]]\n",
    "        D[i, j] = max(a_gap, b_gap, match)"
   ]
  },
  {
   "cell_type": "markdown",
   "metadata": {},
   "source": [
    "Восстанавливаем выравнивания"
   ]
  },
  {
   "cell_type": "code",
   "execution_count": 9,
   "metadata": {},
   "outputs": [],
   "source": [
    "def edit_dist(a, b):\n",
    "    w = 0\n",
    "    for i in range(len(a)):\n",
    "        w += W[ind[a[i]], ind[b[i]]]\n",
    "    return w"
   ]
  },
  {
   "cell_type": "code",
   "execution_count": 27,
   "metadata": {},
   "outputs": [],
   "source": [
    "i, j = n, m\n",
    "a1, b1, m = '', '', ''\n",
    "\n",
    "while i + j > 0:\n",
    "    if D[i, j] == D[i-1, j] + W[ind[a[i-1]], ind['-']]:\n",
    "        a1 += a[i-1]\n",
    "        b1 += '-'\n",
    "        m += ' '\n",
    "        i -= 1\n",
    "    elif D[i, j] == D[i, j-1] + W[ind[b[j-1]], ind['-']]:\n",
    "        a1 += '-'\n",
    "        b1 += b[j-1]\n",
    "        m += ' '\n",
    "        j -= 1\n",
    "    else:\n",
    "        a1 += a[i-1]\n",
    "        b1 += b[j-1]\n",
    "        if a[i-1] == b[j-1]:\n",
    "            m += '|'\n",
    "        else:\n",
    "            m += ' '\n",
    "        i -= 1\n",
    "        j -= 1"
   ]
  },
  {
   "cell_type": "code",
   "execution_count": 28,
   "metadata": {},
   "outputs": [],
   "source": [
    "assert edit_dist(a1,b1) == D[-1,-1]"
   ]
  },
  {
   "cell_type": "code",
   "execution_count": 14,
   "metadata": {},
   "outputs": [
    {
     "name": "stdout",
     "output_type": "stream",
     "text": [
      "CYVSMNDKILFDMLYHEGRYELDLMTHGVYYTLLWATADLRTMLYDSQ-NGSFS-AQTYDFDNQKMISCEQA\n",
      "|   |||||||   ||||      ||| |||  ||||| |         ||||           ||||||| \n",
      "CW-DMNDKILFG--YHEGGF-V--MTHYVYYCGLWATAPLWECISAQMCNGSFWLSAQSVYEVFKMISCEQS\n"
     ]
    }
   ],
   "source": [
    "print(a1[::-1])\n",
    "print(m[::-1])\n",
    "print(b1[::-1])"
   ]
  },
  {
   "cell_type": "markdown",
   "metadata": {},
   "source": [
    "### Test "
   ]
  },
  {
   "cell_type": "markdown",
   "metadata": {},
   "source": [
    "Попробуем испортить как минимум последнюю позицию выравнивания"
   ]
  },
  {
   "cell_type": "code",
   "execution_count": 24,
   "metadata": {},
   "outputs": [],
   "source": [
    "W[ind[a1[0]], ind[b1[0]]] = -9999\n",
    "W[ind[b1[0]], ind[a1[0]]] = -9999"
   ]
  },
  {
   "cell_type": "code",
   "execution_count": 29,
   "metadata": {},
   "outputs": [
    {
     "name": "stdout",
     "output_type": "stream",
     "text": [
      "CYVSMNDKILFDMLYHEGRYELDLMTHGVYYTLLWATADLRTMLYDSQ-NGSFSAQTYD-FDNQKMISCEQ-A\n",
      "|   |||||||   ||||      ||| |||  ||||| |         ||||           |||||||  \n",
      "CW-DMNDKILFG--YHEGGF-V--MTHYVYYCGLWATAPLWECISAQMCNGSFWLSAQSVYEVFKMISCEQS-\n"
     ]
    }
   ],
   "source": [
    "print(a1[::-1])\n",
    "print(m[::-1])\n",
    "print(b1[::-1])"
   ]
  },
  {
   "cell_type": "markdown",
   "metadata": {},
   "source": [
    "Готово!"
   ]
  }
 ],
 "metadata": {
  "kernelspec": {
   "display_name": "Python 3",
   "language": "python",
   "name": "python3"
  },
  "language_info": {
   "codemirror_mode": {
    "name": "ipython",
    "version": 3
   },
   "file_extension": ".py",
   "mimetype": "text/x-python",
   "name": "python",
   "nbconvert_exporter": "python",
   "pygments_lexer": "ipython3",
   "version": "3.7.0"
  }
 },
 "nbformat": 4,
 "nbformat_minor": 2
}
