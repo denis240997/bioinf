{
 "cells": [
  {
   "cell_type": "code",
   "execution_count": 52,
   "metadata": {},
   "outputs": [],
   "source": [
    "import numpy as np"
   ]
  },
  {
   "cell_type": "markdown",
   "metadata": {},
   "source": [
    "# 2. Nussinov"
   ]
  },
  {
   "cell_type": "code",
   "execution_count": 159,
   "metadata": {},
   "outputs": [],
   "source": [
    "RNA = 'GGGGCUAUAGCUCAGCUGGGAGAGCGCCUGCUUUGCACGCAGGAGGUCUGCGGUUCGAUCCCGCAUAGCUCCACCA' # Escherichia coli tRNA"
   ]
  },
  {
   "cell_type": "code",
   "execution_count": 160,
   "metadata": {},
   "outputs": [],
   "source": [
    "ind = {'A': 0, 'U': 1, 'G': 2, 'C': 3}\n",
    "w = [[0,1,0,0], [1,0,1,0], [0,1,0,1], [0,0,1,0]] # матрица комплиментарности пар нуклеотидов"
   ]
  },
  {
   "cell_type": "code",
   "execution_count": 161,
   "metadata": {},
   "outputs": [],
   "source": [
    "def Nuss(s, w, min_hp=3):     # min_hp - минимальный размер шпильки\n",
    "    n = len(s)\n",
    "    M = np.zeros((n,n), dtype=np.int)\n",
    "    \n",
    "    for d in range(n-1):     # динамическое заполнение матрицы наилучших вариантов укладки\n",
    "        i, j = 0, min_hp + d\n",
    "        while j < n:\n",
    "            K = np.empty(j-i, dtype=np.int)\n",
    "            for k in range(i,j):\n",
    "                K[i-k] = M[i,k] + M[k+1,j]\n",
    "            M[i,j] = max(M[i+1,j-1] + w[ind[s[i]]][ind[s[j]]] ,np.max(K))\n",
    "            i += 1\n",
    "            j += 1\n",
    "            \n",
    "    stack = [(0,n-1)]\n",
    "    pairs = []\n",
    "    while len(stack):     # восстановление решения\n",
    "        i, j = stack.pop()\n",
    "        if j-i <= min_hp:\n",
    "            continue\n",
    "        elif M[i,j] == M[i+1, j-1] + w[ind[s[i]]][ind[s[j]]]:\n",
    "            pairs.append((i,j))\n",
    "            stack.append((i+1, j-1))\n",
    "        else:\n",
    "            for k in range(i,j):\n",
    "                if M[i,j] == M[i,k] + M[k+1,j]:\n",
    "                    stack.append((i, k))\n",
    "                    stack.append((k+1,j))\n",
    "                    break\n",
    "    pairs.sort()\n",
    "    struct = ['-']*n     # представление решения\n",
    "    for i, j in pairs: \n",
    "        struct[i] = '('\n",
    "        struct[j] = ')'\n",
    "        \n",
    "    print(s)\n",
    "    print(*struct, sep='')\n",
    "    \n",
    "    return M[0,-1]"
   ]
  },
  {
   "cell_type": "code",
   "execution_count": 162,
   "metadata": {
    "scrolled": false
   },
   "outputs": [
    {
     "name": "stdout",
     "output_type": "stream",
     "text": [
      "GGGGCUAUAGCUCAGCUGGGAGAGCGCCUGCUUUGCACGCAGGAGGUCUGCGGUUCGAUCCCGCAUAGCUCCACCA\n",
      "(((((----))))--)((((-(((((((-((((((----))))(----))))))(-(-(-----))))))))-)))\n"
     ]
    },
    {
     "data": {
      "text/plain": [
       "30"
      ]
     },
     "execution_count": 162,
     "metadata": {},
     "output_type": "execute_result"
    }
   ],
   "source": [
    "Nuss(RNA, w)"
   ]
  },
  {
   "cell_type": "markdown",
   "metadata": {},
   "source": [
    "Попробуем использовать разные веса для разных пар нуклеотидов"
   ]
  },
  {
   "cell_type": "code",
   "execution_count": 169,
   "metadata": {},
   "outputs": [
    {
     "name": "stdout",
     "output_type": "stream",
     "text": [
      "GGGGCUAUAGCUCAGCUGGGAGAGCGCCUGCUUUGCACGCAGGAGGUCUGCGGUUCGAUCCCGCAUAGCUCCACCA\n",
      "(((((----))))--)((((-((((((((-(((-(----)))))))-)(((((-------))))--))))))-)))\n",
      "\n"
     ]
    }
   ],
   "source": [
    "w1 = [[0,2,0,0], [2,0,1,0], [0,1,0,3], [0,0,3,0]] # разные веса для разных пар нуклеотидов\n",
    "\n",
    "Nuss(RNA, w1)\n",
    "print()"
   ]
  },
  {
   "cell_type": "markdown",
   "metadata": {},
   "source": [
    "### Test 1"
   ]
  },
  {
   "cell_type": "code",
   "execution_count": 166,
   "metadata": {},
   "outputs": [
    {
     "name": "stdout",
     "output_type": "stream",
     "text": [
      "GGACC\n",
      "(---)\n"
     ]
    },
    {
     "data": {
      "text/plain": [
       "1"
      ]
     },
     "execution_count": 166,
     "metadata": {},
     "output_type": "execute_result"
    }
   ],
   "source": [
    "Nuss('GGACC', w)"
   ]
  },
  {
   "cell_type": "markdown",
   "metadata": {},
   "source": [
    "### Test 2"
   ]
  },
  {
   "cell_type": "code",
   "execution_count": 167,
   "metadata": {},
   "outputs": [
    {
     "name": "stdout",
     "output_type": "stream",
     "text": [
      "AAACAUGAGGAUUACCCAUGU\n",
      "(--((((((-----)))))))\n"
     ]
    },
    {
     "data": {
      "text/plain": [
       "7"
      ]
     },
     "execution_count": 167,
     "metadata": {},
     "output_type": "execute_result"
    }
   ],
   "source": [
    "Nuss('AAACAUGAGGAUUACCCAUGU', w)"
   ]
  }
 ],
 "metadata": {
  "kernelspec": {
   "display_name": "Python 3",
   "language": "python",
   "name": "python3"
  },
  "language_info": {
   "codemirror_mode": {
    "name": "ipython",
    "version": 3
   },
   "file_extension": ".py",
   "mimetype": "text/x-python",
   "name": "python",
   "nbconvert_exporter": "python",
   "pygments_lexer": "ipython3",
   "version": "3.7.0"
  }
 },
 "nbformat": 4,
 "nbformat_minor": 2
}
