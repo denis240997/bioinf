{
 "cells": [
  {
   "cell_type": "code",
   "execution_count": 96,
   "metadata": {},
   "outputs": [],
   "source": [
    "import numpy as np\n",
    "from random import randint"
   ]
  },
  {
   "cell_type": "markdown",
   "metadata": {},
   "source": [
    "# 1. Смит-Ватерман"
   ]
  },
  {
   "cell_type": "markdown",
   "metadata": {},
   "source": [
    "Считывем из файла таблицу весов PAM250"
   ]
  },
  {
   "cell_type": "code",
   "execution_count": 121,
   "metadata": {},
   "outputs": [],
   "source": [
    "W = np.empty((25,25), dtype=np.int)\n",
    "ind = {}\n",
    "\n",
    "f = open('PAM_250.txt', 'r')\n",
    "amino = f.readline().split()[1:]\n",
    "ind = {amino[i]:i for i in range(25)}\n",
    "for i in range(25):\n",
    "    W[i,:] = np.array(f.readline().split()[2:])\n",
    "    \n",
    "f.close()"
   ]
  },
  {
   "cell_type": "markdown",
   "metadata": {},
   "source": [
    "Или берем стандартные match = 1, mismatch = -1, gap = -1"
   ]
  },
  {
   "cell_type": "code",
   "execution_count": 227,
   "metadata": {},
   "outputs": [],
   "source": [
    "W = np.diag(np.ones(25, dtype=np.int)*2) - np.ones((25,25), dtype=np.int)"
   ]
  },
  {
   "cell_type": "markdown",
   "metadata": {},
   "source": [
    "Создаем независимо мутировавшие аминокислотные последовательности "
   ]
  },
  {
   "cell_type": "code",
   "execution_count": 116,
   "metadata": {},
   "outputs": [],
   "source": [
    "def mutogenesis(s, num, max_len):\n",
    "    for _ in range(num):\n",
    "        pos = randint(0, len(s)-1)\n",
    "        ins = randint(1,max_len)\n",
    "        dlt = randint(1,max_len)\n",
    "        s = s[:pos] + ''.join([amino[randint(0, 19)] for _ in range(ins)]) + s[pos+dlt:]\n",
    "    return s"
   ]
  },
  {
   "cell_type": "code",
   "execution_count": 248,
   "metadata": {},
   "outputs": [
    {
     "name": "stdout",
     "output_type": "stream",
     "text": [
      "HLAITNGHYCSQQVGHYEVQQAGQVSVGDENFVSPPCRMIIAIEPENIAMYCE\n",
      "VQQWEAMFFWGSYCSQQVGHYLVQQAGNETDKGDEHTWPDEVMIKSRSPRGAMISS\n"
     ]
    }
   ],
   "source": [
    "a = ''.join([amino[randint(0, 19)] for _ in range(50)])\n",
    "b = a\n",
    "a = mutogenesis(a, 10, 3)\n",
    "b = mutogenesis(b, 10, 3)\n",
    "print(a)\n",
    "print(b)"
   ]
  },
  {
   "cell_type": "markdown",
   "metadata": {},
   "source": [
    "## Выравниваем"
   ]
  },
  {
   "cell_type": "code",
   "execution_count": 208,
   "metadata": {},
   "outputs": [],
   "source": [
    "def gap_w(s):\n",
    "    w = np.zeros((len(s)+1))\n",
    "    for i in range(1, len(s)+1):\n",
    "        w[i] = w[i-1] + W[ind[s[i-1]], ind['-']]\n",
    "    return w"
   ]
  },
  {
   "cell_type": "code",
   "execution_count": 249,
   "metadata": {},
   "outputs": [],
   "source": [
    "n, m = len(a), len(b)\n",
    "\n",
    "D = np.empty((n+1, m+1), dtype=np.int)\n",
    "D[:,0] = gap_w(a)\n",
    "D[0,:] = gap_w(b)"
   ]
  },
  {
   "cell_type": "code",
   "execution_count": 250,
   "metadata": {},
   "outputs": [],
   "source": [
    "n, m = len(a), len(b)\n",
    "\n",
    "D = np.zeros((n+1, m+1), dtype=np.int)"
   ]
  },
  {
   "cell_type": "code",
   "execution_count": 251,
   "metadata": {},
   "outputs": [],
   "source": [
    "for i in range(1, n+1):\n",
    "    for j in range(1, m+1):\n",
    "        a_gap = D[i, j-1] + W[ind[b[j-1]], ind['-']]\n",
    "        b_gap = D[i-1, j] + W[ind[a[i-1]], ind['-']]\n",
    "        match = D[i-1, j-1] + W[ind[a[i-1]], ind[b[j-1]]]\n",
    "        D[i, j] = max(a_gap, b_gap, match, 0)"
   ]
  },
  {
   "cell_type": "markdown",
   "metadata": {},
   "source": [
    "Восстанавливаем выравнивания"
   ]
  },
  {
   "cell_type": "code",
   "execution_count": 212,
   "metadata": {},
   "outputs": [],
   "source": [
    "def argmax(arr):\n",
    "    s = np.shape(arr)\n",
    "    am = arr.argmax()\n",
    "    ind = []\n",
    "    i = 0\n",
    "    for d in s:\n",
    "        i += 1\n",
    "        if len(s[i:]):\n",
    "            c = np.product(s[i:])\n",
    "        else:\n",
    "            c = 1\n",
    "        ind.append(am // c)\n",
    "        am %= c\n",
    "    return tuple(ind)"
   ]
  },
  {
   "cell_type": "code",
   "execution_count": 252,
   "metadata": {},
   "outputs": [],
   "source": [
    "i, j = argmax(D)\n",
    "a1, b1, mtc = a[i:][::-1], b[j:][::-1], ''\n",
    "\n",
    "while D[i, j] != 0:\n",
    "    if D[i, j] == D[i-1, j] + W[ind[a[i-1]], ind['-']]:\n",
    "        a1 += a[i-1]\n",
    "        b1 += '-'\n",
    "        mtc += ' '\n",
    "        i -= 1\n",
    "    elif D[i, j] == D[i, j-1] + W[ind[b[j-1]], ind['-']]:\n",
    "        a1 += '-'\n",
    "        b1 += b[j-1]\n",
    "        mtc += ' '\n",
    "        j -= 1\n",
    "    else:\n",
    "        a1 += a[i-1]\n",
    "        b1 += b[j-1]\n",
    "        if a[i-1] == b[j-1]:\n",
    "            mtc += '|'\n",
    "        else:\n",
    "            mtc += ' '\n",
    "        i -= 1\n",
    "        j -= 1\n",
    "        \n",
    "a1 += a[:i][::-1]\n",
    "b1 += b[:j][::-1]\n",
    "if i > j:\n",
    "    d = i - j\n",
    "    b1 += ' '*d\n",
    "    mtc += ' '*i\n",
    "else:\n",
    "    d = j - i\n",
    "    a1 += ' '*d\n",
    "    mtc += ' '*j  "
   ]
  },
  {
   "cell_type": "code",
   "execution_count": 253,
   "metadata": {},
   "outputs": [
    {
     "name": "stdout",
     "output_type": "stream",
     "text": [
      "    HLAITNGHYCSQQVGHYEVQQAGQVSVGDENFVSPPCRMIIAIEPENIAMYCE\n",
      "            ||||||||| |||||\n",
      "VQQWEAMFFWGSYCSQQVGHYLVQQAGNETDKGDEHTWPDEVMIKSRSPRGAMISS\n"
     ]
    }
   ],
   "source": [
    "print(a1[::-1])\n",
    "print(mtc[::-1])\n",
    "print(b1[::-1])"
   ]
  },
  {
   "cell_type": "markdown",
   "metadata": {},
   "source": [
    "## Тест"
   ]
  },
  {
   "cell_type": "code",
   "execution_count": null,
   "metadata": {},
   "outputs": [],
   "source": [
    "a = 'TCCCAGTTATGTCAGGGGACACGAGCATGCAGAGAC'\n",
    "b = 'AATTGCCGCCGTCGTTTTCAGCAGTTATGTCAGATC'"
   ]
  },
  {
   "cell_type": "code",
   "execution_count": 215,
   "metadata": {},
   "outputs": [
    {
     "name": "stdout",
     "output_type": "stream",
     "text": [
      "                  TCCCAGTTATGTCAGGGGACACGAGCATGCAGAGAC\n",
      "                     ||||||||||||\n",
      "AATTGCCGCCGTCGTTTTCAGCAGTTATGTCAGATC\n"
     ]
    }
   ],
   "source": [
    "print(a1[::-1])\n",
    "print(mtc[::-1])\n",
    "print(b1[::-1])"
   ]
  },
  {
   "cell_type": "markdown",
   "metadata": {},
   "source": [
    "Локальное выравнивание с единичными весами"
   ]
  },
  {
   "cell_type": "code",
   "execution_count": 226,
   "metadata": {},
   "outputs": [
    {
     "name": "stdout",
     "output_type": "stream",
     "text": [
      "T--CC-CAGT--TATGTCAGAGGGCACGAGCATG-CAGAGAC\n",
      "|  || | ||  | | ||||    || |   ||| ||||  |\n",
      "TGTCCGCCGTGCTTT-TCAG----CA-GTT-ATGTCAGAT-C\n"
     ]
    }
   ],
   "source": [
    "print(a1[::-1])\n",
    "print(mtc[::-1])\n",
    "print(b1[::-1])"
   ]
  },
  {
   "cell_type": "markdown",
   "metadata": {},
   "source": [
    "Глобальное выравнивание с единичными весами"
   ]
  },
  {
   "cell_type": "markdown",
   "metadata": {},
   "source": [
    "# 2. Афинные гэпы"
   ]
  },
  {
   "cell_type": "code",
   "execution_count": 220,
   "metadata": {},
   "outputs": [],
   "source": [
    "diff = lambda a, b : int(a == b)*2 - 1\n",
    "p, d = 0, 1"
   ]
  },
  {
   "cell_type": "code",
   "execution_count": 259,
   "metadata": {},
   "outputs": [],
   "source": [
    "a = 'TCCCAGTTATGTCAGGGGACACGAGCATGCAGAGAC'\n",
    "b = 'AATTGCCGCCGTCGTTTTCAGCAGTTATGTCAGATC'"
   ]
  },
  {
   "cell_type": "markdown",
   "metadata": {},
   "source": [
    "## Выравниваем"
   ]
  },
  {
   "cell_type": "code",
   "execution_count": 265,
   "metadata": {},
   "outputs": [],
   "source": [
    "n, m = len(a), len(b)\n",
    "\n",
    "D = np.empty((n+1, m+1))\n",
    "D[:,0] = -(p + np.arange(len(a)+1)*d)\n",
    "D[0,:] = -(p + np.arange(len(b)+1)*d)\n",
    "D[0,0] = 0"
   ]
  },
  {
   "cell_type": "code",
   "execution_count": 266,
   "metadata": {},
   "outputs": [],
   "source": [
    "for i in range(1, n+1):\n",
    "    for j in range(1, m+1):\n",
    "        a_gap = max(D[i,:j] - (p + np.arange(1,j+1)*d)[::-1])\n",
    "        b_gap = max(D[:i,j] - (p + np.arange(1,i+1)*d)[::-1])\n",
    "        match = D[i-1, j-1] + diff(a[i-1], b[j-1])\n",
    "        D[i, j] = max(a_gap, b_gap, match)"
   ]
  },
  {
   "cell_type": "markdown",
   "metadata": {},
   "source": [
    "Восстанавливаем выравнивания"
   ]
  },
  {
   "cell_type": "code",
   "execution_count": 267,
   "metadata": {},
   "outputs": [],
   "source": [
    "i, j = n, m\n",
    "a1, b1, mtc = '', '', ''\n",
    "\n",
    "while i > 0 and j > 0:\n",
    "    if D[i, j] == max(D[:i,j] - (p + np.arange(1,i+1)*d)[::-1]):\n",
    "        ami = np.argmax(D[:i,j] - (p + np.arange(1,i+1)*d)[::-1])\n",
    "        a1 += a[ami:i]\n",
    "        b1 += '-' * (i-ami)\n",
    "        mtc += ' ' * (i-ami)\n",
    "        i = ami\n",
    "    elif D[i, j] == max(D[i,:j] - (p + np.arange(1,j+1)*d)[::-1]):\n",
    "        amj = np.argmax(D[i,:j] - (p + np.arange(1,j+1)*d)[::-1])\n",
    "        a1 += '-' * (j-amj)\n",
    "        b1 += b[amj:j]\n",
    "        mtc += ' ' * (j-amj)\n",
    "        j = amj\n",
    "    else:\n",
    "        a1 += a[i-1]\n",
    "        b1 += b[j-1]\n",
    "        if a[i-1] == b[j-1]:\n",
    "            mtc += '|'\n",
    "        else:\n",
    "            mtc += ' '\n",
    "        i -= 1\n",
    "        j -= 1"
   ]
  },
  {
   "cell_type": "markdown",
   "metadata": {},
   "source": [
    "## Тест 1"
   ]
  },
  {
   "cell_type": "code",
   "execution_count": null,
   "metadata": {},
   "outputs": [],
   "source": [
    "p, d = 0, 1"
   ]
  },
  {
   "cell_type": "code",
   "execution_count": 225,
   "metadata": {},
   "outputs": [
    {
     "name": "stdout",
     "output_type": "stream",
     "text": [
      "T--CC-CAGT--TATGTCAGAGGGCACGAGCATG-CAGAGAC\n",
      "|  || | ||  | | ||||    || |   ||| ||||  |\n",
      "TGTCCGCCGTGCTTT-TCAG----CA-GTT-ATGTCAGAT-C\n"
     ]
    }
   ],
   "source": [
    "print(a1[::-1])\n",
    "print(mtc[::-1])\n",
    "print(b1[::-1])"
   ]
  },
  {
   "cell_type": "markdown",
   "metadata": {},
   "source": [
    "## Тест 2"
   ]
  },
  {
   "cell_type": "code",
   "execution_count": 254,
   "metadata": {},
   "outputs": [],
   "source": [
    "p, d = 100, 0.01"
   ]
  },
  {
   "cell_type": "code",
   "execution_count": 263,
   "metadata": {},
   "outputs": [
    {
     "name": "stdout",
     "output_type": "stream",
     "text": [
      "TCCCAGTTATGTCAGGGGACACGAGCATGCAGAGAC\n",
      "          |||        |    |||      |\n",
      "AATTGCCGCCGTCGTTTTCAGCAGTTATGTCAGATC\n"
     ]
    }
   ],
   "source": [
    "print(a1[::-1])\n",
    "print(mtc[::-1])\n",
    "print(b1[::-1])"
   ]
  },
  {
   "cell_type": "markdown",
   "metadata": {},
   "source": [
    "## Тест 3"
   ]
  },
  {
   "cell_type": "code",
   "execution_count": 264,
   "metadata": {},
   "outputs": [],
   "source": [
    "p, d = -0.5, 0.3"
   ]
  },
  {
   "cell_type": "code",
   "execution_count": 268,
   "metadata": {},
   "outputs": [
    {
     "name": "stdout",
     "output_type": "stream",
     "text": [
      "T--CC-C-AGT--TATGT-CAGGGGACACG--A-GCATGCAGA-GAC\n",
      "|  || |  ||  | | | |||    || |  | |  | ||||   |\n",
      "TTGCCGCC-GTCGT-T-TTCAG----CA-GTTATG--T-CAGAT--C\n"
     ]
    }
   ],
   "source": [
    "print(a1[::-1])\n",
    "print(mtc[::-1])\n",
    "print(b1[::-1])"
   ]
  },
  {
   "cell_type": "code",
   "execution_count": null,
   "metadata": {},
   "outputs": [],
   "source": []
  }
 ],
 "metadata": {
  "kernelspec": {
   "display_name": "Python 3",
   "language": "python",
   "name": "python3"
  },
  "language_info": {
   "codemirror_mode": {
    "name": "ipython",
    "version": 3
   },
   "file_extension": ".py",
   "mimetype": "text/x-python",
   "name": "python",
   "nbconvert_exporter": "python",
   "pygments_lexer": "ipython3",
   "version": "3.7.0"
  }
 },
 "nbformat": 4,
 "nbformat_minor": 2
}
